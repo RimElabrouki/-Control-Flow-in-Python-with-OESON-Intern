{
  "nbformat": 4,
  "nbformat_minor": 0,
  "metadata": {
    "colab": {
      "provenance": []
    },
    "kernelspec": {
      "name": "python3",
      "display_name": "Python 3"
    },
    "language_info": {
      "name": "python"
    }
  },
  "cells": [
    {
      "cell_type": "markdown",
      "source": [
        "#Control Flow in Python\n",
        "1. Introduction to Control Flow:\n",
        "Control flow in programming refers to the order in which individual statements, instructions,\n",
        "or function calls are executed or evaluated. Understanding control flow is essential for\n",
        "creating algorithms and solving complex problems.\n",
        "2. Conditional Statements:\n",
        "Conditional statements allow you to execute certain pieces of code based on whether a\n",
        "condition is true or false.\n"
      ],
      "metadata": {
        "id": "s3bQA-abDBYR"
      }
    },
    {
      "cell_type": "markdown",
      "source": [
        "**Write a program to find the longest word in a given sentence**"
      ],
      "metadata": {
        "id": "nWv6K7WpDQzC"
      }
    },
    {
      "cell_type": "code",
      "execution_count": 3,
      "metadata": {
        "colab": {
          "base_uri": "https://localhost:8080/"
        },
        "id": "AF41GiEDC8k5",
        "outputId": "adbff205-2215-47f9-818c-882a0b65a6ce"
      },
      "outputs": [
        {
          "output_type": "stream",
          "name": "stdout",
          "text": [
            "Please enter a sentence: i want a coffe right now\n",
            "The longest word is: coffe\n"
          ]
        }
      ],
      "source": [
        "def words(sentence):\n",
        "    # Split the sentence into words\n",
        "    words = sentence.split()\n",
        "    # Initialize variables to store the longest word and its length\n",
        "    longest_word = \"\"\n",
        "    max_length = 0\n",
        "    # Iterate over each word in the list\n",
        "    for word in words:\n",
        "        # If the current word's length is greater than the max_length\n",
        "        if len(word) > max_length:\n",
        "            longest_word = word\n",
        "            max_length = len(word)\n",
        "\n",
        "    return longest_word\n",
        "\n",
        "# Ask the user for a sentence\n",
        "sentence = input(\"Please enter a sentence: \")\n",
        "# Find the longest word\n",
        "longest = words(sentence)\n",
        "print(f\"The longest word is: {longest}\")\n"
      ]
    },
    {
      "cell_type": "markdown",
      "source": [
        "#### Write a program to generate the first n prime numbers\n",
        "A prime number is a natural number greater than 1 that has no positive divisors other than 1 and itself.\n",
        "In other words, a prime number can only be divided evenly (without leaving a remainder) by 1 and the number itself."
      ],
      "metadata": {
        "id": "0gQpmV0cERrd"
      }
    },
    {
      "cell_type": "code",
      "source": [
        "import pandas as pd\n",
        "\n",
        "n = int(input(\"Enter the number of prime numbers to generate: \"))\n",
        "\n",
        "primes = []  # List to store the prime numbers\n",
        "current_num = 2  # Start checking for prime numbers from 2\n",
        "\n",
        "# Continue until we have generated 'n' prime numbers\n",
        "while len(primes) < n:\n",
        "    is_prime = True  # Assume the current number is prime\n",
        "\n",
        "    ''' Check if the current number is divisible by any number from 2 up to its square root\n",
        "    Exponentiation: In Python, the ** operator is used for exponentiation.\n",
        "    Square Root: To find the square root of a number, you raise it to the power of 0.5.\n",
        "    Mathematically, the square root of a number n** 0.5 = sqr(n)\n",
        "    '''\n",
        "    if current_num > 1:\n",
        "        for i in range(2, int(current_num ** 0.5) + 1):\n",
        "            # Check if current_num is divisible by i\n",
        "            if current_num % i == 0:\n",
        "                is_prime = False  # If divisible, the number is not prime\n",
        "                break  # Exit the loop as we found a divisor\n",
        "\n",
        "    # If the number is still considered prime after checking all possible divisors\n",
        "    if is_prime:\n",
        "        primes.append(current_num)  # Add the prime number to the list\n",
        "\n",
        "    # Move to the next number to check\n",
        "    current_num += 1\n",
        "\n",
        "# Create a pandas DataFrame with the prime numbers\n",
        "df = pd.DataFrame(primes, columns=[\"Prime Numbers\"])\n",
        "\n",
        "# Print the DataFrame to display the prime numbers\n",
        "print(df)"
      ],
      "metadata": {
        "colab": {
          "base_uri": "https://localhost:8080/"
        },
        "id": "4-Ply1KZEgVn",
        "outputId": "c7d628fc-716d-47c6-f8f2-99e1e60f1653"
      },
      "execution_count": 4,
      "outputs": [
        {
          "output_type": "stream",
          "name": "stdout",
          "text": [
            "Enter the number of prime numbers to generate: 9\n",
            "   Prime Numbers\n",
            "0              2\n",
            "1              3\n",
            "2              5\n",
            "3              7\n",
            "4             11\n",
            "5             13\n",
            "6             17\n",
            "7             19\n",
            "8             23\n"
          ]
        }
      ]
    },
    {
      "cell_type": "markdown",
      "source": [
        "### Write a program to convert a decimal number to its binary representation.\n",
        "\n",
        "Binary representation is a way of expressing numbers using only two digits: 0 and 1. Each digit in this system is called a bit. In binary, numbers are written as sequences of these two digits, where each position represents a power of 2."
      ],
      "metadata": {
        "id": "jZ3Aj1AUJozL"
      }
    },
    {
      "cell_type": "code",
      "source": [
        "decimal_number = int(input(\"Enter a decimal number: \"))\n",
        "\n",
        "# Convert decimal to binary\n",
        "binary_representation = bin(decimal_number)\n",
        "\n",
        "# Print the binary representation (removing the '0b' prefix)\n",
        "print(f\"The binary representation of {decimal_number} is: {binary_representation[2:]}\")"
      ],
      "metadata": {
        "colab": {
          "base_uri": "https://localhost:8080/"
        },
        "id": "Y6uCQRY8JwY9",
        "outputId": "f38a7db5-6edb-498e-f2ff-75e06ddbc7db"
      },
      "execution_count": 5,
      "outputs": [
        {
          "output_type": "stream",
          "name": "stdout",
          "text": [
            "Enter a decimal number: 8\n",
            "The binary representation of 8 is: 1000\n"
          ]
        }
      ]
    },
    {
      "cell_type": "markdown",
      "source": [
        "###Write a program to sort a list of dictionaries by a specified key"
      ],
      "metadata": {
        "id": "2aCagLQfOJz6"
      }
    },
    {
      "cell_type": "code",
      "source": [
        "# Sample list of dictionaries\n",
        "list_of_dicts = [\n",
        "    {'name': 'jon', 'age': 29},\n",
        "    {'name': 'lucy', 'age': 30},\n",
        "    {'name': 'ben', 'age': 22}\n",
        "]\n",
        "\n",
        "# Key to sort by\n",
        "key_to_sort_by = 'age'\n",
        "\n",
        "# Sort the list of dictionaries by the specified key\n",
        "sorted_list = sorted(list_of_dicts, key=lambda d: d[key_to_sort_by])\n",
        "\n",
        "# Print the sorted list\n",
        "print(sorted_list)\n"
      ],
      "metadata": {
        "colab": {
          "base_uri": "https://localhost:8080/"
        },
        "id": "TUqOooksOMkY",
        "outputId": "617e99ac-9200-426d-a94f-2743e5337e55"
      },
      "execution_count": 6,
      "outputs": [
        {
          "output_type": "stream",
          "name": "stdout",
          "text": [
            "[{'name': 'ben', 'age': 22}, {'name': 'jon', 'age': 29}, {'name': 'lucy', 'age': 30}]\n"
          ]
        }
      ]
    },
    {
      "cell_type": "markdown",
      "source": [
        "### Write a program to calculate the greatest common divisor (GCD) of two numbers\n",
        "The Greatest Common Divisor (GCD) of two or more integers is the largest positive integer that divides each of the integers without leaving a remainder. In other words, it is the greatest number that all the integers share as a common divisor."
      ],
      "metadata": {
        "id": "h2JAXIPrOsWe"
      }
    },
    {
      "cell_type": "code",
      "source": [
        "# Function to calculate the GCD of two numbers using the Euclidean algorithm\n",
        "def gcd(a, b):\n",
        "    # Continue looping until the remainder is 0\n",
        "    while b != 0:\n",
        "        # Compute the remainder of a divided by b\n",
        "        a, b = b, a % b\n",
        "        # Assign b to a and a % b to b for the next iteration\n",
        "    return a  # When b becomes 0, a contains the GCD\n",
        "\n",
        "# Input: Two numbers from the user\n",
        "num1 = int(input(\"Enter the first number: \"))  # Convert user input to integer\n",
        "num2 = int(input(\"Enter the second number: \"))  # Convert user input to integer\n",
        "\n",
        "# Calculate the GCD using the gcd function\n",
        "result = gcd(num1, num2)\n",
        "\n",
        "# Print the result\n",
        "print(f\"The GCD of {num1} and {num2} is: {result}\")"
      ],
      "metadata": {
        "colab": {
          "base_uri": "https://localhost:8080/"
        },
        "id": "CvAPJ2LdOoiP",
        "outputId": "3b90d2e8-5c0f-4fcb-f25e-e75b78c2614c"
      },
      "execution_count": 8,
      "outputs": [
        {
          "output_type": "stream",
          "name": "stdout",
          "text": [
            "Enter the first number: 200\n",
            "Enter the second number: 443\n",
            "The GCD of 200 and 443 is: 1\n"
          ]
        }
      ]
    },
    {
      "cell_type": "markdown",
      "source": [
        "###Write a program to generate a list of the first n Fibonacci numbers."
      ],
      "metadata": {
        "id": "y9_rdeiJTV2L"
      }
    },
    {
      "cell_type": "code",
      "source": [
        "# Function to generate the first n Fibonacci numbers\n",
        "def generate_fibonacci(n):\n",
        "    fibonacci_list = []\n",
        "\n",
        "    # Handle the case where n is 0\n",
        "    if n <= 0:\n",
        "        return fibonacci_list\n",
        "\n",
        "    # Start with the first two numbers in the Fibonacci sequence\n",
        "    a, b = 0, 1\n",
        "\n",
        "    # Generate Fibonacci numbers\n",
        "    for _ in range(n):\n",
        "        fibonacci_list.append(a)  # Add the current number to the list\n",
        "        a, b = b, a + b  # Update a and b to the next two numbers in the sequence\n",
        "\n",
        "    return fibonacci_list\n",
        "\n",
        "# Input: Number of Fibonacci numbers to generate\n",
        "n = int(input(\"Enter the number of Fibonacci numbers to generate: \"))\n",
        "\n",
        "# Generate the Fibonacci numbers\n",
        "fib_numbers = generate_fibonacci(n)\n",
        "\n",
        "# Print the list of Fibonacci numbers\n",
        "print(f\"The first {n} Fibonacci numbers are: {fib_numbers}\")"
      ],
      "metadata": {
        "colab": {
          "base_uri": "https://localhost:8080/"
        },
        "id": "tVbVsTtYTjyY",
        "outputId": "72a06c65-5a63-4f04-a0b1-6fcb57f8fc47"
      },
      "execution_count": 9,
      "outputs": [
        {
          "output_type": "stream",
          "name": "stdout",
          "text": [
            "Enter the number of Fibonacci numbers to generate: 3\n",
            "The first 3 Fibonacci numbers are: [0, 1, 1]\n"
          ]
        }
      ]
    },
    {
      "cell_type": "markdown",
      "source": [
        "### Write a program to find the intersection of two lists"
      ],
      "metadata": {
        "id": "GYZ3vnvJTaj2"
      }
    },
    {
      "cell_type": "code",
      "source": [
        "# Function to find the intersection of two lists\n",
        "def find_intersection(list1, list2):\n",
        "    # Convert lists to sets to remove duplicates and perform intersection\n",
        "    set1 = set(list1)\n",
        "    set2 = set(list2)\n",
        "\n",
        "    # Find the intersection of the two sets\n",
        "    intersection = set1 & set2\n",
        "\n",
        "    # Convert the set back to a list if needed\n",
        "    return list(intersection)\n",
        "\n",
        "# Input: Two lists from the user\n",
        "list1 = list(map(int, input(\"Enter the elements of the first list separated by spaces: \").split()))\n",
        "list2 = list(map(int, input(\"Enter the elements of the second list separated by spaces: \").split()))\n",
        "\n",
        "# Find the intersection of the two lists\n",
        "intersection_list = find_intersection(list1, list2)\n",
        "\n",
        "# Print the result\n",
        "print(f\"The intersection of the two lists is: {intersection_list}\")"
      ],
      "metadata": {
        "colab": {
          "base_uri": "https://localhost:8080/"
        },
        "id": "-05hNkj0Tq9t",
        "outputId": "e393eb4c-7d9a-49f3-a037-a8954ce1eb13"
      },
      "execution_count": 12,
      "outputs": [
        {
          "output_type": "stream",
          "name": "stdout",
          "text": [
            "Enter the elements of the first list separated by spaces: 23 42 44 23\n",
            "Enter the elements of the second list separated by spaces: 23 11 44 12 \n",
            "The intersection of the two lists is: [44, 23]\n"
          ]
        }
      ]
    },
    {
      "cell_type": "markdown",
      "source": [
        " #### Write a program to merge two sorted lists into a single sorted list"
      ],
      "metadata": {
        "id": "_l8opSjyUEBO"
      }
    },
    {
      "cell_type": "code",
      "source": [
        "# Function to merge two sorted lists into a single sorted list\n",
        "def merge_sorted_lists(list1, list2):\n",
        "    merged_list = []\n",
        "    i, j = 0, 0  # Pointers for list1 and list2\n",
        "\n",
        "    # Traverse both lists and append the smaller element to merged_list\n",
        "    while i < len(list1) and j < len(list2):\n",
        "        if list1[i] < list2[j]:\n",
        "            merged_list.append(list1[i])\n",
        "            i += 1\n",
        "        else:\n",
        "            merged_list.append(list2[j])\n",
        "            j += 1\n",
        "\n",
        "    # If there are remaining elements in list1, append them\n",
        "    while i < len(list1):\n",
        "        merged_list.append(list1[i])\n",
        "        i += 1\n",
        "\n",
        "    # If there are remaining elements in list2, append them\n",
        "    while j < len(list2):\n",
        "        merged_list.append(list2[j])\n",
        "        j += 1\n",
        "\n",
        "    return merged_list\n",
        "\n",
        "# Input: Two sorted lists from the user\n",
        "list1 = list(map(int, input(\"Enter the elements of the first sorted list separated by spaces: \").split()))\n",
        "list2 = list(map(int, input(\"Enter the elements of the second sorted list separated by spaces: \").split()))\n",
        "\n",
        "# Merge the sorted lists\n",
        "merged_list = merge_sorted_lists(list1, list2)\n",
        "\n",
        "# Print the merged list\n",
        "print(f\"The merged sorted list is: {merged_list}\")"
      ],
      "metadata": {
        "colab": {
          "base_uri": "https://localhost:8080/"
        },
        "id": "tOw8anyPUIFj",
        "outputId": "84faab9c-4484-4ea1-877a-021e76c8ce3e"
      },
      "execution_count": 13,
      "outputs": [
        {
          "output_type": "stream",
          "name": "stdout",
          "text": [
            "Enter the elements of the first sorted list separated by spaces: 23 23 22 11\n",
            "Enter the elements of the second sorted list separated by spaces: 12\n",
            "The merged sorted list is: [12, 23, 23, 22, 11]\n"
          ]
        }
      ]
    },
    {
      "cell_type": "markdown",
      "source": [
        "#### Write a program to calculate the dot product of two vectors"
      ],
      "metadata": {
        "id": "AvgunoQAUUAp"
      }
    },
    {
      "cell_type": "code",
      "source": [
        "# Function to calculate the dot product of two vectors\n",
        "def dot_product(vector1, vector2):\n",
        "    # Check if vectors are of the same length\n",
        "    if len(vector1) != len(vector2):\n",
        "        raise ValueError(\"Vectors must be of the same length\")\n",
        "\n",
        "    # Calculate the dot product using descriptive variable names\n",
        "    return sum(product1 * product2 for product1, product2 in zip(vector1, vector2))\n",
        "\n",
        "# Input: Two vectors from the user\n",
        "vector1 = list(map(float, input(\"Enter the elements of the first vector separated by spaces: \").split()))\n",
        "vector2 = list(map(float, input(\"Enter the elements of the second vector separated by spaces: \").split()))\n",
        "\n",
        "# Calculate the dot product\n",
        "try:\n",
        "    result = dot_product(vector1, vector2)\n",
        "    # Print the result\n",
        "    print(f\"The dot product of the two vectors is: {result}\")\n",
        "except ValueError as e:\n",
        "    print(e)"
      ],
      "metadata": {
        "colab": {
          "base_uri": "https://localhost:8080/"
        },
        "id": "6Yh3HxIaUXUZ",
        "outputId": "901bd59f-0076-453f-b3c3-d1c6c24a6e11"
      },
      "execution_count": 14,
      "outputs": [
        {
          "output_type": "stream",
          "name": "stdout",
          "text": [
            "Enter the elements of the first vector separated by spaces: 11 33 12 33\n",
            "Enter the elements of the second vector separated by spaces: 22 11 22 33 \n",
            "The dot product of the two vectors is: 1958.0\n"
          ]
        }
      ]
    },
    {
      "cell_type": "markdown",
      "source": [
        "### Write a program to implement a simple calculator that can perform basic arithmetic\n",
        "operations (+, -, *, /)"
      ],
      "metadata": {
        "id": "BBKUjz9hUnhv"
      }
    },
    {
      "cell_type": "code",
      "source": [
        "def add(x, y):\n",
        "    \"\"\"Perform addition\"\"\"\n",
        "    return x + y\n",
        "\n",
        "def subtract(x, y):\n",
        "    \"\"\"Perform subtraction\"\"\"\n",
        "    return x - y\n",
        "\n",
        "def multiply(x, y):\n",
        "    \"\"\"Perform multiplication\"\"\"\n",
        "    return x * y\n",
        "\n",
        "def divide(x, y):\n",
        "    \"\"\"Perform division with error handling for division by zero\"\"\"\n",
        "    if y == 0:\n",
        "        raise ValueError(\"Cannot divide by zero\")  # Handle division by zero error\n",
        "    return x / y\n",
        "\n",
        "def get_number(prompt):\n",
        "    \"\"\"Prompt the user for a number and handle invalid inputs\"\"\"\n",
        "    while True:\n",
        "        try:\n",
        "            return float(input(prompt))  # Attempt to convert input to float\n",
        "        except ValueError:\n",
        "            print(\"Invalid input. Please enter a valid number.\")  # Handle non-numeric input\n",
        "\n",
        "def display_menu():\n",
        "    \"\"\"Display the menu options\"\"\"\n",
        "    print(\"\\nSimple Calculator\")\n",
        "    print(\"Select an operation:\")\n",
        "    print(\"1. Addition (+)\")\n",
        "    print(\"2. Subtraction (-)\")\n",
        "    print(\"3. Multiplication (*)\")\n",
        "    print(\"4. Division (/)\")\n",
        "\n",
        "def get_operation():\n",
        "    \"\"\"Prompt the user for an arithmetic operation and return the corresponding function\"\"\"\n",
        "    operations = {\n",
        "        '1': add,\n",
        "        '2': subtract,\n",
        "        '3': multiply,\n",
        "        '4': divide\n",
        "    }  # Dictionary to map user choice to arithmetic function\n",
        "    while True:\n",
        "        choice = input(\"Enter your choice (1/2/3/4): \")\n",
        "        if choice in operations:\n",
        "            return operations[choice]  # Return the function corresponding to the choice\n",
        "        else:\n",
        "            print(\"Invalid choice. Please enter 1, 2, 3, or 4.\")  # Handle invalid choice\n",
        "\n",
        "def calculator():\n",
        "    \"\"\"Main function to run the calculator\"\"\"\n",
        "    while True:\n",
        "        display_menu()  # Display the menu options\n",
        "        operation = get_operation()  # Get the selected operation function\n",
        "\n",
        "        num1 = get_number(\"Enter the first number: \")  # Get the first number from the user\n",
        "        num2 = get_number(\"Enter the second number: \")  # Get the second number from the user\n",
        "\n",
        "        try:\n",
        "            result = operation(num1, num2)  # Perform the operation\n",
        "            print(f\"The result of the operation is: {result}\")  # Display the result\n",
        "        except ValueError as e:\n",
        "            print(e)  # Print error message if division by zero occurs\n",
        "\n",
        "        # Ask user if they want to perform another calculation or exit\n",
        "        again = input(\"Do you want to perform another calculation? (yes/no): \").strip().lower()\n",
        "        if again != 'yes':\n",
        "            print(\"Exiting the calculator. Goodbye!\")  # Exit message\n",
        "            break\n",
        "\n",
        "# Run the calculator program\n",
        "calculator()\n"
      ],
      "metadata": {
        "colab": {
          "base_uri": "https://localhost:8080/"
        },
        "id": "Y2c8v9AcUrPP",
        "outputId": "f8dd855f-206a-4409-f0a3-01d790705df1"
      },
      "execution_count": 16,
      "outputs": [
        {
          "output_type": "stream",
          "name": "stdout",
          "text": [
            "\n",
            "Simple Calculator\n",
            "Select an operation:\n",
            "1. Addition (+)\n",
            "2. Subtraction (-)\n",
            "3. Multiplication (*)\n",
            "4. Division (/)\n",
            "Enter your choice (1/2/3/4): 1\n",
            "Enter the first number: 12\n",
            "Enter the second number: 1\n",
            "The result of the operation is: 13.0\n",
            "Do you want to perform another calculation? (yes/no): no\n",
            "Exiting the calculator. Goodbye!\n"
          ]
        }
      ]
    }
  ]
}